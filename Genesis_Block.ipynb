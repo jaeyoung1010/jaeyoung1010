{
  "nbformat": 4,
  "nbformat_minor": 0,
  "metadata": {
    "colab": {
      "provenance": [],
      "authorship_tag": "ABX9TyMt2F8AKNWiaaieg/tbjFxD",
      "include_colab_link": true
    },
    "kernelspec": {
      "name": "python3",
      "display_name": "Python 3"
    },
    "language_info": {
      "name": "python"
    }
  },
  "cells": [
    {
      "cell_type": "markdown",
      "metadata": {
        "id": "view-in-github",
        "colab_type": "text"
      },
      "source": [
        "<a href=\"https://colab.research.google.com/github/jaeyoung1010/jaeyoung1010/blob/main/Genesis_Block.ipynb\" target=\"_parent\"><img src=\"https://colab.research.google.com/assets/colab-badge.svg\" alt=\"Open In Colab\"/></a>"
      ]
    },
    {
      "cell_type": "code",
      "execution_count": 2,
      "metadata": {
        "colab": {
          "base_uri": "https://localhost:8080/"
        },
        "id": "QLIfCwoVxvjt",
        "outputId": "1988831a-a732-4a1b-b387-c464fcd0a986"
      },
      "outputs": [
        {
          "output_type": "stream",
          "name": "stdout",
          "text": [
            "Index: 0\n",
            "Timestamp: 1711507541.0914352\n",
            "Data: Genesis Block\n",
            "Previous Hash: 0\n",
            "Nonce: 21849\n",
            "Hash: 0000c2ad72c549e2e4b87c9106f64071dce830bf44aebe7fc49bd12b3c9c360b\n",
            "\n",
            "Index: 1\n",
            "Timestamp: 1711507541.1580615\n",
            "Data: Block 1 Data\n",
            "Previous Hash: 0000c2ad72c549e2e4b87c9106f64071dce830bf44aebe7fc49bd12b3c9c360b\n",
            "Nonce: 59119\n",
            "Hash: 0000bc92df4e2a915218ae85794c3268ee6bac7e60ff989808621959000d8bb6\n",
            "\n",
            "Index: 2\n",
            "Timestamp: 1711507541.3442378\n",
            "Data: Block 2 Data\n",
            "Previous Hash: 0000bc92df4e2a915218ae85794c3268ee6bac7e60ff989808621959000d8bb6\n",
            "Nonce: 7497\n",
            "Hash: 00002d1c1f346c369c939cebcf3ad8e79ea5a5c5a6a3f883b9bfbdae84f47893\n",
            "\n",
            "Index: 3\n",
            "Timestamp: 1711507541.3656569\n",
            "Data: Block 3 Data\n",
            "Previous Hash: 00002d1c1f346c369c939cebcf3ad8e79ea5a5c5a6a3f883b9bfbdae84f47893\n",
            "Nonce: 2706\n",
            "Hash: 0000289b829aebb9fb3ae3485fc7abef15bc899db0693792a7b508285620505c\n",
            "\n",
            "Index: 4\n",
            "Timestamp: 1711507541.3734202\n",
            "Data: Block 4 Data\n",
            "Previous Hash: 0000289b829aebb9fb3ae3485fc7abef15bc899db0693792a7b508285620505c\n",
            "Nonce: 135328\n",
            "Hash: 00006054584ffa0b48769f6bc1804f253406de85fd58496bea3b83a50fc6681d\n",
            "\n",
            "Index: 5\n",
            "Timestamp: 1711507541.939441\n",
            "Data: Block 5 Data\n",
            "Previous Hash: 00006054584ffa0b48769f6bc1804f253406de85fd58496bea3b83a50fc6681d\n",
            "Nonce: 23107\n",
            "Hash: 0000ad0f4275211b39e4249b836cbb4576cd1a66fc9c4623e2b1b8abae46d7e8\n",
            "\n"
          ]
        }
      ],
      "source": [
        "import hashlib\n",
        "import time\n",
        "\n",
        "def calculate_hash(index, timestamp, data, previous_hash, nonce):\n",
        "  value = str(index) + str(timestamp) + str(data) + str(previous_hash) + str(nonce)\n",
        "  return hashlib.sha256(value.encode()).hexdigest()\n",
        "\n",
        "def proof_of_work(index, timestamp, data, previous_hash, difficulty):\n",
        "  nonce = 0\n",
        "  guess = calculate_hash(index, timestamp, data, previous_hash, nonce)\n",
        "  prefix = '0' * difficulty\n",
        "  while not guess.startswith(prefix):\n",
        "    nonce += 1\n",
        "    guess = calculate_hash(index, timestamp, data, previous_hash, nonce)\n",
        "  return nonce, guess\n",
        "\n",
        "def create_genesis_block():\n",
        "  index = 0\n",
        "  timestamp = time.time()\n",
        "  data = \"Genesis Block\"\n",
        "  previous_hash = \"0\"\n",
        "  nonce, hash_value = proof_of_work(index, timestamp, data, previous_hash, 4)\n",
        "  return {\n",
        "      \"index\": index,\n",
        "      \"timestamp\": timestamp,\n",
        "      \"data\": data,\n",
        "      \"previous_hash\": previous_hash,\n",
        "      \"nonce\": nonce,\n",
        "      \"hash\": hash_value\n",
        "  }\n",
        "\n",
        "def add_block(blockchain, data, difficulty):\n",
        "  last_block = blockchain[-1]\n",
        "  index = last_block[\"index\"] + 1\n",
        "  timestamp = time.time()\n",
        "  previous_hash = last_block[\"hash\"]\n",
        "  nonce, hash_value = proof_of_work(index, timestamp, data, previous_hash, difficulty)\n",
        "  block = {\n",
        "      \"index\": index,\n",
        "      \"timestamp\": timestamp,\n",
        "      \"data\": data,\n",
        "      \"previous_hash\": previous_hash,\n",
        "      \"nonce\": nonce,\n",
        "      \"hash\": hash_value\n",
        "  }\n",
        "  blockchain.append(block)\n",
        "\n",
        "\n",
        "\n",
        "blockchain = [create_genesis_block()]\n",
        "difficulty = 4\n",
        "\n",
        "for i in range(1, 6):\n",
        "  add_block(blockchain, f\"Block {i} Data\", difficulty)\n",
        "\n",
        "for block in blockchain:\n",
        "  print(f\"Index: {block['index']}\")\n",
        "  print(f\"Timestamp: {block['timestamp']}\")\n",
        "  print(f\"Data: {block['data']}\")\n",
        "  print(f\"Previous Hash: {block['previous_hash']}\")\n",
        "  print(f\"Nonce: {block['nonce']}\")\n",
        "  print(f\"Hash: {block['hash']}\\n\")\n"
      ]
    },
    {
      "cell_type": "code",
      "source": [],
      "metadata": {
        "id": "MiSJ6lKQx4bf"
      },
      "execution_count": null,
      "outputs": []
    }
  ]
}