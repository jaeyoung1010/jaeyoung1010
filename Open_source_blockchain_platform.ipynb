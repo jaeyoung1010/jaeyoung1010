{
  "nbformat": 4,
  "nbformat_minor": 0,
  "metadata": {
    "colab": {
      "provenance": [],
      "authorship_tag": "ABX9TyP7eQvvmJFUoKjQmjaZBVJG",
      "include_colab_link": true
    },
    "kernelspec": {
      "name": "python3",
      "display_name": "Python 3"
    },
    "language_info": {
      "name": "python"
    }
  },
  "cells": [
    {
      "cell_type": "markdown",
      "metadata": {
        "id": "view-in-github",
        "colab_type": "text"
      },
      "source": [
        "<a href=\"https://colab.research.google.com/github/jaeyoung1010/jaeyoung1010/blob/main/Open_source_blockchain_platform.ipynb\" target=\"_parent\"><img src=\"https://colab.research.google.com/assets/colab-badge.svg\" alt=\"Open In Colab\"/></a>"
      ]
    },
    {
      "cell_type": "markdown",
      "source": [
        "Block_Data_0 ~ Block_Data_10 이라는 문자열의 sha256 해시 값은?"
      ],
      "metadata": {
        "id": "H--JHJ0Kbt4c"
      }
    },
    {
      "cell_type": "code",
      "source": [
        "import hashlib\n",
        "\n",
        "for i in range(11):\n",
        "  block_text = f\"Block_Data_{i}\"\n",
        "  hash = hashlib.sha256(block_text.encode()).hexdigest()\n",
        "  print(f\"{block_text}: {hash}\")"
      ],
      "metadata": {
        "colab": {
          "base_uri": "https://localhost:8080/"
        },
        "id": "i9B82kH3bujs",
        "outputId": "9a7ca9e3-01d9-4ba6-c99d-64bb0c5226f8"
      },
      "execution_count": 5,
      "outputs": [
        {
          "output_type": "stream",
          "name": "stdout",
          "text": [
            "Block_Data_0: 6ce3636215dc68d0d47e2afcf76fdd3501c5619bbaa956c4eeaf4cdceed6f216\n",
            "Block_Data_1: f10a32e435eeae7a6ea1c1ff9be89d4c7b599581c76f97374b2c36cef3d5b5ed\n",
            "Block_Data_2: 069729d1dd0efcb3e41a3ce813039e71813dfb7bbe3de5dbc848e50815932811\n",
            "Block_Data_3: 157550c0b967af2288217fdcd58c474d7e46a23f610f2b6f3f76fea57e9c48fb\n",
            "Block_Data_4: 5b23147791b00612f3214a3d71d52c1259aa35c2fc0b6faa417d37261119ab24\n",
            "Block_Data_5: 0aa02361ed8336a72297c53e237a170e30662ae93683ab9a164038f93f412911\n",
            "Block_Data_6: e9cf76cc7348b368ba0ca28d82126c60a49ddcbb889c98e3b763dbd385b64deb\n",
            "Block_Data_7: 9da12529993d9d81c89a17f152ca07cdd26daa4a2da9ecc6e7b909ccf56e34c9\n",
            "Block_Data_8: 5c3c4172e88aedada0bd52434af7544992ed407bf8f1308c00bbcfdb04f4ded5\n",
            "Block_Data_9: 97d4da6f388acc189f9a63d26ece6920e608a6c0bbb17a015e504443a3e64e7a\n",
            "Block_Data_10: c5231f88ba1142b9cda1cb5d4abacfd468c391975649501d4dd79b44fcfb04b6\n"
          ]
        }
      ]
    },
    {
      "cell_type": "markdown",
      "source": [
        "아래 조건에 만족하는 해시 출력\n",
        "\n",
        "(1)Block_Data_0 문자열과 특정 숫자를 포함해서 해시를 수행할 것. Block_Data_0 Block_Data_1 Block_Data_2 Block_Data_3: Block_Data_20\n",
        "\n",
        "(2)각각의 Sha256 해시값 출력"
      ],
      "metadata": {
        "id": "M68UfuAac2gi"
      }
    },
    {
      "cell_type": "code",
      "source": [
        "import hashlib\n",
        "\n",
        "block_text = \"Block_Data_\"\n",
        "\n",
        "for nonce in range(11):\n",
        "    input = block_text + str(nonce)\n",
        "    hash = hashlib.sha256(block_text.encode()).hexdigest()\n",
        "    print(f\"{input}: {hash}\")"
      ],
      "metadata": {
        "colab": {
          "base_uri": "https://localhost:8080/"
        },
        "id": "htZfe2_cdN_W",
        "outputId": "b7161c43-73a1-4fad-f43a-91d28c98ad7d"
      },
      "execution_count": 6,
      "outputs": [
        {
          "output_type": "stream",
          "name": "stdout",
          "text": [
            "Block_Data_0: 693fb25186c116dbf1f3c11a9a6fe7f8ed36407a62e4d081a6adf5d32b4639a7\n",
            "Block_Data_1: 693fb25186c116dbf1f3c11a9a6fe7f8ed36407a62e4d081a6adf5d32b4639a7\n",
            "Block_Data_2: 693fb25186c116dbf1f3c11a9a6fe7f8ed36407a62e4d081a6adf5d32b4639a7\n",
            "Block_Data_3: 693fb25186c116dbf1f3c11a9a6fe7f8ed36407a62e4d081a6adf5d32b4639a7\n",
            "Block_Data_4: 693fb25186c116dbf1f3c11a9a6fe7f8ed36407a62e4d081a6adf5d32b4639a7\n",
            "Block_Data_5: 693fb25186c116dbf1f3c11a9a6fe7f8ed36407a62e4d081a6adf5d32b4639a7\n",
            "Block_Data_6: 693fb25186c116dbf1f3c11a9a6fe7f8ed36407a62e4d081a6adf5d32b4639a7\n",
            "Block_Data_7: 693fb25186c116dbf1f3c11a9a6fe7f8ed36407a62e4d081a6adf5d32b4639a7\n",
            "Block_Data_8: 693fb25186c116dbf1f3c11a9a6fe7f8ed36407a62e4d081a6adf5d32b4639a7\n",
            "Block_Data_9: 693fb25186c116dbf1f3c11a9a6fe7f8ed36407a62e4d081a6adf5d32b4639a7\n",
            "Block_Data_10: 693fb25186c116dbf1f3c11a9a6fe7f8ed36407a62e4d081a6adf5d32b4639a7\n"
          ]
        }
      ]
    },
    {
      "cell_type": "markdown",
      "source": [
        "Quiz\n",
        "해시 값이 00000으로 시작하는 nonce 값을 찾아보세요. str함수로 startswith() 함수를 이용하면 됩니다"
      ],
      "metadata": {
        "id": "7f5RNK7kdvb7"
      }
    },
    {
      "cell_type": "code",
      "source": [
        "block_text = \"Block_Data_\"\n",
        "nonce = 0\n",
        "while True:\n",
        "  value = block_text + str(nonce)\n",
        "  hash_value = hashlib.sha256(value.encode()).hexdigest()\n",
        "  if hash_value.startswith('00000'):\n",
        "      break\n",
        "  nonce = nonce + 1\n",
        "\n",
        "print(f\"nonce = [{nonce}] {hash_value}\")"
      ],
      "metadata": {
        "colab": {
          "base_uri": "https://localhost:8080/"
        },
        "id": "HPU-5228ik__",
        "outputId": "7b91e365-efec-4325-9276-d5ba4816fc1a"
      },
      "execution_count": 15,
      "outputs": [
        {
          "output_type": "stream",
          "name": "stdout",
          "text": [
            "nonce = [91613] 000007b26e61cc539d0e752b0fe4f4c447be41a82b19b3464362a5e0595c42c1\n"
          ]
        }
      ]
    },
    {
      "cell_type": "code",
      "source": [
        "import hashlib\n",
        "import time\n",
        "\n",
        "\n",
        "def calculate_hash(index, timestamp, data, previous_hash, nonce):\n",
        "  value = str(index) + str(timestamp) + str(data) + str(previous_hash) + str(nonce)\n",
        "  return hashlib.sha256(value.encode()).hexdigest()\n",
        "\n",
        "def proof_of_work(index, timestamp, data, previous_hash, difficulty):\n",
        "  nonce = 0\n",
        "  [\"여기에 들어갈 코드\"]\n",
        "\n",
        "\n",
        "\n",
        "\n",
        "\n",
        "def create_genesis_block():\n",
        "  index = 0\n",
        "  timestamp = time.time()\n",
        "  data = \"Genesis Block\"\n",
        "  previous_hash = \"0\"\n",
        "  nonce, hash_value = proof_of_work(index, timestamp, data, previous_hash, 4)\n",
        "  return {\n",
        "      \"index\": index,\n",
        "      \"timestamp\": timestamp,\n",
        "      \"data\": data,\n",
        "      \"previous_hash\": previous_hash,\n",
        "      \"nonce\": nonce,\n",
        "      \"hash\": hash_value\n",
        "  }\n",
        "\n",
        "blockchain = [create_genesis_block()]\n",
        "difficulty = 4\n",
        "\n",
        "for block in blockchain:\n",
        "  print(f\"Index: {block['index']}\")\n",
        "  print(f\"Timestamp: {block['timestamp']}\")\n",
        "  print(f\"Data: {block['data']}\")\n",
        "  print(f\"Previous Hash: {block['previous_hash']}\")\n",
        "  print(f\"Nonce: {block['nonce']}\")\n",
        "  print(f\"Hash: {block['hash']}\\n\")"
      ],
      "metadata": {
        "id": "EL9IryIXtmEU"
      },
      "execution_count": null,
      "outputs": []
    }
  ]
}